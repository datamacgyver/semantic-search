{
 "cells": [
  {
   "cell_type": "markdown",
   "source": [
    "# Semantic search\n",
    "The below notebook is a really quick and dirty example for how one could implement a semantic search engine using `sentence_transformers` (part of [sbert](https://www.sbert.net/index.html)) and Opensearch (AWS' Elasticsearch implementation).\n",
    "\n",
    "## Glossary\n",
    "* Model - Basically a collection of mathematical functions that can predict or transform data. These usually require training in some way so they can understand the world\n",
    "* Embedding - A word or sentence converted to numbers, usually stored as a list or vector\n",
    "* Distance - In this context, this is how far two sets of numbers are from one another. Related to:\n",
    "    * K Nearest Neighbours - K being the amount of nearby values to return\n",
    "    * Dot product and cosine similarity - ways of evaluating distance\n",
    "\n",
    "## Semantic what?\n",
    "Okay, so what I mean is \"searching based on meaning, not synonyms\". The models used below try to extract the actual meaning in a sentence and represent it mathematically as a list of numbers. Two lists that are similar to each other will have similar numbers (which we often refer to as distance). Bigger models will use longer lists of numbers for this but will also take longer to encode and match, it's a trade off that I've not really explored here, preferring to just see how well different models work.\n",
    "\n",
    "In the olden days, this kind of thing just used single words but that often failed to catch the meaning behind things, glasses for example could be for your face or for your wine, it's all about context. Later attempts combined the scores for all the words in a sentence to get the aggregate meaning, but this often led to an over-representation of junk words such as `the` or `and` (or `or` for that matter!) so more recently models have been built that will actually take the whole sentence in and try to get an aggregate meaning. I've not done the reading to decide which model does what in the below but I have focused on sentence based approaches. This is a double edged sword in that we will probably understand the meaning of the sentence better but our vectors will be bigger (and thus more expensive to create and search), and also it may mean that match scores can be low (as there's more meaning in the weight bench description than just `gym`). The latter of these should be fine as `gym` will still score more highly than something nonsensical, such as `cat`.\n",
    "\n",
    "## How could this look on AWS?\n",
    "Read [this AWS post](https://aws.amazon.com/blogs/machine-learning/building-an-nlu-powered-search-application-with-amazon-sagemaker-and-the-amazon-es-knn-feature/) for an example. This is basically what I've done here but hosts the encoding of the sentences to numbers on Sagemaker. The advantage of this is SM has endpoints that are specifically adapted to run rapid predictions from complex models (called Elastic Endpoints), meaning you will likely get results faster than using a lambda/ECS container of similar size.\n",
    "\n",
    "## Methodology\n",
    "I've loaded up two product descriptions from Amazon.co.uk, one for a tent and one for a weights bench. I've then tried a few different models (see below sections for details) and also tried them using the whole description and also just the nouns from the description. The advantage of stripping nouns is that the things we are looking for are likely nouns so you are less likely to get non-target matches. The disadvantage is that there is less context to learn.\n",
    "\n",
    "My queries are just randomly chosen words. Some are in the descriptions, some are not but are related to them, and others are just randomly chosen words from deep in my subconscious, you can make what you will of the fact `bra` is in there. Both the descriptions and the queries are encoded to list of numbers (often called vectors) and then their distance is compared.\n",
    "\n",
    "\n",
    "## Warnings\n",
    "* I've not done this on lots of data, just the two examples below, if you've got a load of descriptions then hit me up and we can play!\n",
    "* I have a GPU so this runs really fast. You mileage in production may vary, if you need it faster then use a smaller model (but you may lose accuracy in doing so, it's a trade off)\n",
    "* A simple word embedding using extracted nouns may be the fastest option and I've not done that here, preferring sentence embeddings. As with the above point, by losing the sentences you lose some meaning. The resultant search would struggle to differentiate glasses on your face and glasses for your wine!\n",
    "* You may need to play with Opensearch's settings to get the right distance metrics for your model, also not done here.\n",
    "\n",
    "## Right tools, right job\n",
    "AWS Kendra will also do this for you but it's not cheap (£1,000> a month), reading the brief it also seems optimised for internal documents over products but I've not tested this.\n",
    "\n",
    "It's important to state that this is for search, if your problem is classifying products into categories, you could use searches on those names and decide on a confidence cutoff but that may get clunky, a better option may be AWS Comprehend if you have time and money. Similarly, if your problem is one of \"what does this person want to buy\" you may get more luck from AWS Personalize [sic] which will do variations on product recommendation systems for you. This can group similar people and similar products together.\n"
   ],
   "metadata": {
    "collapsed": false,
    "pycharm": {
     "name": "#%% md\n"
    }
   }
  },
  {
   "cell_type": "code",
   "execution_count": 1,
   "metadata": {
    "collapsed": true
   },
   "outputs": [],
   "source": [
    "from sentence_transformers import SentenceTransformer, util\n",
    "from textblob import TextBlob\n",
    "import json\n",
    "from opensearchpy import OpenSearch\n",
    "\n",
    "## On first run you may have to uncomment these three and run them to get everything installed. I think this is just needed for the noun stripping so if you don't need that you don't need this.\n",
    "# import nltk\n",
    "# nltk.download('brown')\n",
    "# nltk.download('punkt')"
   ]
  },
  {
   "cell_type": "code",
   "execution_count": 2,
   "outputs": [],
   "source": [
    "psg_gym_bench = 'The BodyMax CF302 Flat Bench with Dumbbell Rack allows you to create an exciting and varied workout to help strengthen, tone and promote weight loss, whilst also keeping your gym floor clutter free! Stylish and classic, this flat bench has been thoughtfully constructed with durable upholstery and high-density padding to ensure maximum comfort while you train.'\n",
    "\n",
    "psg_tent = \"The Theta 4 Tent is a four-person tunnel tent, uniquely featuring two sleeping cabins and a moveable front wall, allowing you to choose whether you have a covered porch or a larger living area inside your tent. With such an incredible size of 340(W) x 480(D) x 190cm(H), the Theta 4 has more than plenty of space inside – perfect for a family getaway, a couples’ retreat, or a trip shared among friends.\"\n",
    "\n",
    "queries = [\"gym\", \"holiday\", \"bench\", \"bra\", \"television\", \"exercise\", \"exercise equipment\",\n",
    "           \"weights bench\" , \"rower\", \"weights\", \"tent\", \"outdoors\", \"camping\"]"
   ],
   "metadata": {
    "collapsed": false,
    "pycharm": {
     "name": "#%%\n"
    }
   }
  },
  {
   "cell_type": "markdown",
   "source": [
    "# What do the vectors look like?\n",
    "We get a vector of encoded values"
   ],
   "metadata": {
    "collapsed": false,
    "pycharm": {
     "name": "#%% md\n"
    }
   }
  },
  {
   "cell_type": "code",
   "execution_count": 3,
   "outputs": [
    {
     "data": {
      "text/plain": "[-0.29896676540374756,\n -0.9481991529464722,\n 0.7112562656402588,\n 0.2055627405643463,\n -0.11523410677909851,\n -0.06249874085187912,\n 0.48820844292640686,\n -0.6752977967262268,\n 0.43621954321861267,\n 0.6652036309242249]"
     },
     "execution_count": 3,
     "metadata": {},
     "output_type": "execute_result"
    }
   ],
   "source": [
    "m = SentenceTransformer('msmarco-distilroberta-base-v2')\n",
    "m.encode(psg_gym_bench).tolist()[0:10]"
   ],
   "metadata": {
    "collapsed": false,
    "pycharm": {
     "name": "#%%\n"
    }
   }
  },
  {
   "cell_type": "code",
   "execution_count": 4,
   "outputs": [
    {
     "data": {
      "text/plain": "[-0.0926285833120346,\n 0.12392871081829071,\n -0.008582912385463715,\n 0.4329494535923004,\n 0.9176907539367676,\n -0.2596074044704437,\n 0.34361034631729126,\n -0.06777438521385193,\n -0.22211872041225433,\n -0.6315351724624634]"
     },
     "execution_count": 4,
     "metadata": {},
     "output_type": "execute_result"
    }
   ],
   "source": [
    "m.encode(\"gym\").tolist()[0:10]"
   ],
   "metadata": {
    "collapsed": false,
    "pycharm": {
     "name": "#%%\n"
    }
   }
  },
  {
   "cell_type": "markdown",
   "source": [
    "## Choosing a model\n",
    "Based on [this](https://www.sbert.net/examples/applications/semantic-search/README.html#symmetric-vs-asymmetric-semantic-search) link we are probably looking at an asymmetric search here so should favour those kinds of models. For this, the Bing-derived `msmacro` suite seem to be a good fit ([link](https://www.sbert.net/docs/pretrained-models/msmarco-v3.html)).\n",
    "\n",
    "There is also a need to pick your distance measure, of which there are several but the above links suggest that dot product and cosine are good places to start and cosine is often better for \"short\" descriptions. Do note that Opensearch uses `Approximate Nearest Neighbours` as it's default distance measure which is optimised for fast search, you can override this with cosine but it may slow you down a bit.\n"
   ],
   "metadata": {
    "collapsed": false,
    "pycharm": {
     "name": "#%% md\n"
    }
   }
  },
  {
   "cell_type": "code",
   "execution_count": 5,
   "outputs": [],
   "source": [
    "def try_model(mod_name, match_algo, just_nouns=False, psg_in=psg_gym_bench, search_terms=queries):\n",
    "    \"\"\"\n",
    "    This function loads up the descrption passage into a vector and then compares it to the vector of all of the search terms.\n",
    "    Results are presented in descending order.\n",
    "    \"\"\"\n",
    "    if just_nouns:\n",
    "        psg_in = TextBlob(psg_in).noun_phrases\n",
    "        psg_in = \" \".join(psg_in)\n",
    "    model = SentenceTransformer(mod_name)\n",
    "    passage_embedding_1 = model.encode([psg_in])\n",
    "    search_terms = {q: model.encode(q) for q in search_terms}\n",
    "\n",
    "    if match_algo.lower() == \"dot\":\n",
    "        match_func = util.dot_score\n",
    "    elif match_algo.lower() == \"cosine\":\n",
    "        match_func = util.pytorch_cos_sim  # There's also a cos_sim, unsure of diff\n",
    "    else:\n",
    "        raise ValueError(\"Invalid Match Function!\")\n",
    "\n",
    "    return sorted([(float(match_func(v, passage_embedding_1)), k) for k,v in search_terms.items()], reverse=True)"
   ],
   "metadata": {
    "collapsed": false,
    "pycharm": {
     "name": "#%%\n"
    }
   }
  },
  {
   "cell_type": "markdown",
   "source": [
    "This one was recommended in the getting started section for semantic search [here](https://www.sbert.net/examples/applications/semantic-search/README.html#) works the same with cosine and dot but it's supposed to be cosine according to the docs"
   ],
   "metadata": {
    "collapsed": false,
    "pycharm": {
     "name": "#%% md\n"
    }
   }
  },
  {
   "cell_type": "code",
   "execution_count": 6,
   "outputs": [
    {
     "data": {
      "text/plain": "[(0.6330403089523315, 'weights bench'),\n (0.5748993158340454, 'bench'),\n (0.4849099814891815, 'gym'),\n (0.3846684694290161, 'exercise equipment'),\n (0.3389934301376343, 'weights'),\n (0.19906282424926758, 'exercise'),\n (0.16111910343170166, 'bra'),\n (0.16074158251285553, 'rower'),\n (0.1323268860578537, 'tent'),\n (0.10875529050827026, 'camping'),\n (0.030693121254444122, 'outdoors'),\n (-0.06338250637054443, 'television'),\n (-0.06988093256950378, 'holiday')]"
     },
     "execution_count": 6,
     "metadata": {},
     "output_type": "execute_result"
    }
   ],
   "source": [
    "try_model('multi-qa-MiniLM-L6-cos-v1', \"cosine\") # This was recommeneded in the tutorial"
   ],
   "metadata": {
    "collapsed": false,
    "pycharm": {
     "name": "#%%\n"
    }
   }
  },
  {
   "cell_type": "code",
   "execution_count": 7,
   "outputs": [
    {
     "data": {
      "text/plain": "[(0.6421118974685669, 'weights bench'),\n (0.6113723516464233, 'bench'),\n (0.43030375242233276, 'gym'),\n (0.3676666021347046, 'weights'),\n (0.2904892861843109, 'exercise equipment'),\n (0.18365596234798431, 'exercise'),\n (0.1546277403831482, 'rower'),\n (0.15009814500808716, 'tent'),\n (0.14600059390068054, 'bra'),\n (0.09983384609222412, 'camping'),\n (0.07700767368078232, 'outdoors'),\n (-0.004586204886436462, 'television'),\n (-0.03594575822353363, 'holiday')]"
     },
     "execution_count": 7,
     "metadata": {},
     "output_type": "execute_result"
    }
   ],
   "source": [
    "try_model('multi-qa-MiniLM-L6-cos-v1', \"cosine\", just_nouns=True) # This was recommeneded in the tutorial"
   ],
   "metadata": {
    "collapsed": false,
    "pycharm": {
     "name": "#%%\n"
    }
   }
  },
  {
   "cell_type": "markdown",
   "source": [
    "The documentation for sbert suggests the v3 of this model is good for asynch search (when your queries are short and your documents long). My library couldn't download v3 so I grabbed v2."
   ],
   "metadata": {
    "collapsed": false,
    "pycharm": {
     "name": "#%% md\n"
    }
   }
  },
  {
   "cell_type": "code",
   "execution_count": 8,
   "outputs": [
    {
     "data": {
      "text/plain": "[(0.6697664260864258, 'weights bench'),\n (0.5055959224700928, 'exercise equipment'),\n (0.4895481467247009, 'bench'),\n (0.3891954720020294, 'weights'),\n (0.36898455023765564, 'exercise'),\n (0.21264904737472534, 'bra'),\n (0.16299866139888763, 'camping'),\n (0.09984882175922394, 'rower'),\n (0.06350091099739075, 'gym'),\n (0.009487345814704895, 'outdoors'),\n (-0.0696445032954216, 'holiday'),\n (-0.07525771111249924, 'television'),\n (-0.10196186602115631, 'tent')]"
     },
     "execution_count": 8,
     "metadata": {},
     "output_type": "execute_result"
    }
   ],
   "source": [
    "try_model('msmarco-distilroberta-base-v2', \"cosine\")"
   ],
   "metadata": {
    "collapsed": false,
    "pycharm": {
     "name": "#%%\n"
    }
   }
  },
  {
   "cell_type": "code",
   "execution_count": 9,
   "outputs": [
    {
     "data": {
      "text/plain": "[(0.5739995241165161, 'weights bench'),\n (0.4067000150680542, 'weights'),\n (0.38276442885398865, 'exercise equipment'),\n (0.33077865839004517, 'bench'),\n (0.2035306841135025, 'exercise'),\n (0.1936309039592743, 'camping'),\n (0.09358666092157364, 'bra'),\n (0.06547510623931885, 'outdoors'),\n (0.05741633102297783, 'gym'),\n (0.019634557887911797, 'rower'),\n (-0.07226055860519409, 'holiday'),\n (-0.07655307650566101, 'television'),\n (-0.1295216977596283, 'tent')]"
     },
     "execution_count": 9,
     "metadata": {},
     "output_type": "execute_result"
    }
   ],
   "source": [
    "try_model('msmarco-distilroberta-base-v2', \"cosine\", just_nouns=True)"
   ],
   "metadata": {
    "collapsed": false,
    "pycharm": {
     "name": "#%%\n"
    }
   }
  },
  {
   "cell_type": "code",
   "execution_count": 10,
   "outputs": [
    {
     "data": {
      "text/plain": "[(0.3185180425643921, 'tent'),\n (0.250637948513031, 'outdoors'),\n (0.13116911053657532, 'camping'),\n (0.08360445499420166, 'bench'),\n (0.06664702296257019, 'television'),\n (0.03521207720041275, 'exercise equipment'),\n (0.034268710762262344, 'holiday'),\n (0.0004281101282685995, 'weights bench'),\n (-0.01946995034813881, 'gym'),\n (-0.02163332886993885, 'bra'),\n (-0.02525954321026802, 'rower'),\n (-0.032034821808338165, 'exercise'),\n (-0.05440262332558632, 'weights')]"
     },
     "execution_count": 10,
     "metadata": {},
     "output_type": "execute_result"
    }
   ],
   "source": [
    "try_model('msmarco-distilroberta-base-v2', \"cosine\", psg_in=psg_tent) # trying with tent"
   ],
   "metadata": {
    "collapsed": false,
    "pycharm": {
     "name": "#%%\n"
    }
   }
  },
  {
   "cell_type": "markdown",
   "source": [
    "This is a dot optimised model, trying it just to see"
   ],
   "metadata": {
    "collapsed": false,
    "pycharm": {
     "name": "#%% md\n"
    }
   }
  },
  {
   "cell_type": "code",
   "execution_count": 11,
   "outputs": [
    {
     "data": {
      "text/plain": "[(86.560546875, 'weights bench'),\n (64.37287139892578, 'gym'),\n (62.79330825805664, 'bench'),\n (57.10064697265625, 'exercise equipment'),\n (43.40785598754883, 'weights'),\n (41.65951919555664, 'exercise'),\n (29.711671829223633, 'rower'),\n (29.216854095458984, 'bra'),\n (14.020475387573242, 'tent'),\n (13.067646026611328, 'outdoors'),\n (9.146438598632812, 'camping'),\n (3.8990843296051025, 'television'),\n (-23.02558135986328, 'holiday')]"
     },
     "execution_count": 11,
     "metadata": {},
     "output_type": "execute_result"
    }
   ],
   "source": [
    "# dot optimised\n",
    "try_model('msmarco-distilbert-base-v4', \"dot\")"
   ],
   "metadata": {
    "collapsed": false,
    "pycharm": {
     "name": "#%%\n"
    }
   }
  },
  {
   "cell_type": "code",
   "execution_count": 12,
   "outputs": [
    {
     "data": {
      "text/plain": "[(60.13253402709961, 'weights bench'),\n (41.857872009277344, 'bench'),\n (37.81570816040039, 'weights'),\n (36.69390869140625, 'exercise equipment'),\n (36.47909927368164, 'gym'),\n (16.717876434326172, 'rower'),\n (10.237001419067383, 'exercise'),\n (5.496613502502441, 'bra'),\n (3.109081506729126, 'tent'),\n (-1.6696975231170654, 'outdoors'),\n (-3.579359531402588, 'camping'),\n (-9.178805351257324, 'television'),\n (-26.839519500732422, 'holiday')]"
     },
     "execution_count": 12,
     "metadata": {},
     "output_type": "execute_result"
    }
   ],
   "source": [
    "try_model('msmarco-distilbert-base-v4', \"dot\", just_nouns=True)"
   ],
   "metadata": {
    "collapsed": false,
    "pycharm": {
     "name": "#%%\n"
    }
   }
  },
  {
   "cell_type": "markdown",
   "source": [
    "# Reranking\n",
    "This may be something worth looking into, I've not at this point. [Link](https://www.sbert.net/examples/applications/retrieve_rerank/README.html)"
   ],
   "metadata": {
    "collapsed": false,
    "pycharm": {
     "name": "#%% md\n"
    }
   }
  },
  {
   "cell_type": "markdown",
   "source": [
    "# Opensearch\n",
    "To see how this works IRL I've plumbed this into an Opensearch instance to see if it works. This is an older version that I had lying around, I'd def suggest you use the latest as this functionality is quite new. Documentation exists [here](https://opensearch.org/), and the K-nearest Neighbours (KNN) implementation that will find you the closest match is documented [here](https://opensearch.org/docs/latest/search-plugins/knn/index/).\n",
    "\n",
    "The different ways it searches are documented [here](https://opensearch.org/docs/latest/search-plugins/knn/approximate-knn/#spaces), the default (I think) is `L1` so to get optimum performance on the above models you probably want to flip it to `cosinesimil`."
   ],
   "metadata": {
    "collapsed": false,
    "pycharm": {
     "name": "#%% md\n"
    }
   }
  },
  {
   "cell_type": "code",
   "execution_count": 13,
   "outputs": [],
   "source": [
    "# Sorry, not sharing my login here!\n",
    "with open(r\"C:\\Users\\robert.mansfield\\.passes\\test_es.json\", \"r\") as f:\n",
    "    creds = json.loads(f.read())\n",
    "\n",
    "es = OpenSearch(hosts=creds[\"host\"], http_auth=(creds['user'], creds['pass']))\n",
    "\n",
    "my_idx = 'rob_semantic_test'\n",
    "# es.cat.indices()"
   ],
   "metadata": {
    "collapsed": false,
    "pycharm": {
     "name": "#%%\n"
    }
   }
  },
  {
   "cell_type": "code",
   "execution_count": 16,
   "outputs": [
    {
     "data": {
      "text/plain": "768"
     },
     "execution_count": 16,
     "metadata": {},
     "output_type": "execute_result"
    }
   ],
   "source": [
    "# This model did pretty well above but it does give a pretty big vector to search!\n",
    "m = SentenceTransformer('msmarco-distilbert-base-v4')\n",
    "len(m.encode(psg_gym_bench).tolist())"
   ],
   "metadata": {
    "collapsed": false,
    "pycharm": {
     "name": "#%%\n"
    }
   }
  },
  {
   "cell_type": "code",
   "execution_count": 17,
   "outputs": [
    {
     "data": {
      "text/plain": "{'acknowledged': True,\n 'shards_acknowledged': True,\n 'index': 'rob_semantic_test'}"
     },
     "execution_count": 17,
     "metadata": {},
     "output_type": "execute_result"
    }
   ],
   "source": [
    "# create index. Should probably try to activate the cosine similarity at some point. Think my test ES is too old\n",
    "try:\n",
    "    es.indices.delete(index=my_idx)\n",
    "except:\n",
    "    pass\n",
    "\n",
    "idx = {\n",
    "    \"settings\": {\n",
    "        \"index.knn\": True,\n",
    "    },\n",
    "    \"mappings\": {\n",
    "        \"properties\": {\n",
    "            \"vector\": {\n",
    "                \"type\": \"knn_vector\",\n",
    "                \"dimension\": len(m.encode(psg_gym_bench).tolist()),  # This is the length of your model's output vector.\n",
    "                # \"method\":{\"space_type\": \"cosinesimil\"}  # I think this is how you set this but you need a newer Opensearch than I have to hand.\n",
    "            },\n",
    "            \"description\": {\n",
    "                \"type\": \"text\"\n",
    "            }\n",
    "        }\n",
    "    }\n",
    "}\n",
    "\n",
    "es.indices.create(index=my_idx, body=idx)"
   ],
   "metadata": {
    "collapsed": false,
    "pycharm": {
     "name": "#%%\n"
    }
   }
  },
  {
   "cell_type": "code",
   "execution_count": 18,
   "outputs": [
    {
     "data": {
      "text/plain": "{'_index': 'rob_semantic_test',\n '_type': '_doc',\n '_id': '2',\n '_version': 1,\n 'result': 'created',\n '_shards': {'total': 2, 'successful': 2, 'failed': 0},\n '_seq_no': 0,\n '_primary_term': 1}"
     },
     "execution_count": 18,
     "metadata": {},
     "output_type": "execute_result"
    }
   ],
   "source": [
    "# Add some documents\n",
    "es.create(index=my_idx,\n",
    "          body={\"vector\": m.encode(psg_gym_bench).tolist(), \"description\": psg_gym_bench},\n",
    "          id=1\n",
    "          )\n",
    "\n",
    "es.create(index=my_idx,\n",
    "          body={\"vector\": m.encode(psg_tent).tolist(), \"description\": psg_tent},\n",
    "          id=2\n",
    "          )\n"
   ],
   "metadata": {
    "collapsed": false,
    "pycharm": {
     "name": "#%%\n"
    }
   }
  },
  {
   "cell_type": "code",
   "execution_count": 19,
   "outputs": [],
   "source": [
    "def do_query(term):\n",
    "    \"\"\"\n",
    "    Do a search based on distance to the given vector. Return just the score and the description\n",
    "    \"\"\"\n",
    "    qry = {\n",
    "        \"size\": 2,  # Max results\n",
    "        \"query\": {\n",
    "            \"knn\": {\n",
    "                \"vector\": {  # This is the one with your column name, I stupidly called my column vector!\n",
    "                    \"vector\": m.encode(term).tolist(),\n",
    "                    \"k\": 2 # Max results per shard\n",
    "                }\n",
    "            }\n",
    "        }\n",
    "    }\n",
    "\n",
    "    res = es.search(qry, index=my_idx)\n",
    "    return [(h['_source'][\"description\"], h[\"_score\"]) for h in res[\"hits\"][\"hits\"]]"
   ],
   "metadata": {
    "collapsed": false,
    "pycharm": {
     "name": "#%%\n"
    }
   }
  },
  {
   "cell_type": "code",
   "execution_count": 20,
   "outputs": [
    {
     "data": {
      "text/plain": "[('The BodyMax CF302 Flat Bench with Dumbbell Rack allows you to create an exciting and varied workout to help strengthen, tone and promote weight loss, whilst also keeping your gym floor clutter free! Stylish and classic, this flat bench has been thoughtfully constructed with durable upholstery and high-density padding to ensure maximum comfort while you train.',\n  0.004655081),\n ('The Theta 4 Tent is a four-person tunnel tent, uniquely featuring two sleeping cabins and a moveable front wall, allowing you to choose whether you have a covered porch or a larger living area inside your tent. With such an incredible size of 340(W) x 480(D) x 190cm(H), the Theta 4 has more than plenty of space inside – perfect for a family getaway, a couples’ retreat, or a trip shared among friends.',\n  0.002962307)]"
     },
     "execution_count": 20,
     "metadata": {},
     "output_type": "execute_result"
    }
   ],
   "source": [
    "do_query(\"gym\")"
   ],
   "metadata": {
    "collapsed": false,
    "pycharm": {
     "name": "#%%\n"
    }
   }
  },
  {
   "cell_type": "code",
   "execution_count": 21,
   "outputs": [
    {
     "data": {
      "text/plain": "[('The Theta 4 Tent is a four-person tunnel tent, uniquely featuring two sleeping cabins and a moveable front wall, allowing you to choose whether you have a covered porch or a larger living area inside your tent. With such an incredible size of 340(W) x 480(D) x 190cm(H), the Theta 4 has more than plenty of space inside – perfect for a family getaway, a couples’ retreat, or a trip shared among friends.',\n  0.005420531),\n ('The BodyMax CF302 Flat Bench with Dumbbell Rack allows you to create an exciting and varied workout to help strengthen, tone and promote weight loss, whilst also keeping your gym floor clutter free! Stylish and classic, this flat bench has been thoughtfully constructed with durable upholstery and high-density padding to ensure maximum comfort while you train.',\n  0.0031871875)]"
     },
     "execution_count": 21,
     "metadata": {},
     "output_type": "execute_result"
    }
   ],
   "source": [
    "do_query(\"tent\")"
   ],
   "metadata": {
    "collapsed": false,
    "pycharm": {
     "name": "#%%\n"
    }
   }
  },
  {
   "cell_type": "code",
   "execution_count": 22,
   "outputs": [
    {
     "data": {
      "text/plain": "[('The BodyMax CF302 Flat Bench with Dumbbell Rack allows you to create an exciting and varied workout to help strengthen, tone and promote weight loss, whilst also keeping your gym floor clutter free! Stylish and classic, this flat bench has been thoughtfully constructed with durable upholstery and high-density padding to ensure maximum comfort while you train.',\n  0.0044708215),\n ('The Theta 4 Tent is a four-person tunnel tent, uniquely featuring two sleeping cabins and a moveable front wall, allowing you to choose whether you have a covered porch or a larger living area inside your tent. With such an incredible size of 340(W) x 480(D) x 190cm(H), the Theta 4 has more than plenty of space inside – perfect for a family getaway, a couples’ retreat, or a trip shared among friends.',\n  0.0029711577)]"
     },
     "execution_count": 22,
     "metadata": {},
     "output_type": "execute_result"
    }
   ],
   "source": [
    "# Note the description doesn't actually include the word exercise anywhere!\n",
    "do_query(\"exercise equipment\")"
   ],
   "metadata": {
    "collapsed": false,
    "pycharm": {
     "name": "#%%\n"
    }
   }
  },
  {
   "cell_type": "code",
   "execution_count": 23,
   "outputs": [
    {
     "data": {
      "text/plain": "[('The Theta 4 Tent is a four-person tunnel tent, uniquely featuring two sleeping cabins and a moveable front wall, allowing you to choose whether you have a covered porch or a larger living area inside your tent. With such an incredible size of 340(W) x 480(D) x 190cm(H), the Theta 4 has more than plenty of space inside – perfect for a family getaway, a couples’ retreat, or a trip shared among friends.',\n  0.005420531),\n ('The BodyMax CF302 Flat Bench with Dumbbell Rack allows you to create an exciting and varied workout to help strengthen, tone and promote weight loss, whilst also keeping your gym floor clutter free! Stylish and classic, this flat bench has been thoughtfully constructed with durable upholstery and high-density padding to ensure maximum comfort while you train.',\n  0.0031871875)]"
     },
     "execution_count": 23,
     "metadata": {},
     "output_type": "execute_result"
    }
   ],
   "source": [
    "do_query(\"tent\")"
   ],
   "metadata": {
    "collapsed": false,
    "pycharm": {
     "name": "#%%\n"
    }
   }
  },
  {
   "cell_type": "code",
   "execution_count": 24,
   "outputs": [
    {
     "data": {
      "text/plain": "[('The BodyMax CF302 Flat Bench with Dumbbell Rack allows you to create an exciting and varied workout to help strengthen, tone and promote weight loss, whilst also keeping your gym floor clutter free! Stylish and classic, this flat bench has been thoughtfully constructed with durable upholstery and high-density padding to ensure maximum comfort while you train.',\n  0.0045321896),\n ('The Theta 4 Tent is a four-person tunnel tent, uniquely featuring two sleeping cabins and a moveable front wall, allowing you to choose whether you have a covered porch or a larger living area inside your tent. With such an incredible size of 340(W) x 480(D) x 190cm(H), the Theta 4 has more than plenty of space inside – perfect for a family getaway, a couples’ retreat, or a trip shared among friends.',\n  0.0027877921)]"
     },
     "execution_count": 24,
     "metadata": {},
     "output_type": "execute_result"
    }
   ],
   "source": [
    "do_query(\"bench\")"
   ],
   "metadata": {
    "collapsed": false,
    "pycharm": {
     "name": "#%%\n"
    }
   }
  },
  {
   "cell_type": "code",
   "execution_count": 25,
   "outputs": [
    {
     "data": {
      "text/plain": "[('The Theta 4 Tent is a four-person tunnel tent, uniquely featuring two sleeping cabins and a moveable front wall, allowing you to choose whether you have a covered porch or a larger living area inside your tent. With such an incredible size of 340(W) x 480(D) x 190cm(H), the Theta 4 has more than plenty of space inside – perfect for a family getaway, a couples’ retreat, or a trip shared among friends.',\n  0.0027689987),\n ('The BodyMax CF302 Flat Bench with Dumbbell Rack allows you to create an exciting and varied workout to help strengthen, tone and promote weight loss, whilst also keeping your gym floor clutter free! Stylish and classic, this flat bench has been thoughtfully constructed with durable upholstery and high-density padding to ensure maximum comfort while you train.',\n  0.0027312732)]"
     },
     "execution_count": 25,
     "metadata": {},
     "output_type": "execute_result"
    }
   ],
   "source": [
    "do_query(\"cat\")"
   ],
   "metadata": {
    "collapsed": false,
    "pycharm": {
     "name": "#%%\n"
    }
   }
  },
  {
   "cell_type": "code",
   "execution_count": 26,
   "outputs": [
    {
     "data": {
      "text/plain": "[('The Theta 4 Tent is a four-person tunnel tent, uniquely featuring two sleeping cabins and a moveable front wall, allowing you to choose whether you have a covered porch or a larger living area inside your tent. With such an incredible size of 340(W) x 480(D) x 190cm(H), the Theta 4 has more than plenty of space inside – perfect for a family getaway, a couples’ retreat, or a trip shared among friends.',\n  0.002747939),\n ('The BodyMax CF302 Flat Bench with Dumbbell Rack allows you to create an exciting and varied workout to help strengthen, tone and promote weight loss, whilst also keeping your gym floor clutter free! Stylish and classic, this flat bench has been thoughtfully constructed with durable upholstery and high-density padding to ensure maximum comfort while you train.',\n  0.0025693618)]"
     },
     "execution_count": 26,
     "metadata": {},
     "output_type": "execute_result"
    }
   ],
   "source": [
    "do_query(\"holiday\")"
   ],
   "metadata": {
    "collapsed": false,
    "pycharm": {
     "name": "#%%\n"
    }
   }
  },
  {
   "cell_type": "code",
   "execution_count": null,
   "outputs": [],
   "source": [],
   "metadata": {
    "collapsed": false,
    "pycharm": {
     "name": "#%%\n"
    }
   }
  }
 ],
 "metadata": {
  "kernelspec": {
   "display_name": "Python 3",
   "language": "python",
   "name": "python3"
  },
  "language_info": {
   "codemirror_mode": {
    "name": "ipython",
    "version": 2
   },
   "file_extension": ".py",
   "mimetype": "text/x-python",
   "name": "python",
   "nbconvert_exporter": "python",
   "pygments_lexer": "ipython2",
   "version": "2.7.6"
  }
 },
 "nbformat": 4,
 "nbformat_minor": 0
}